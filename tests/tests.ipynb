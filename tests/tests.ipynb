{
 "cells": [
  {
   "cell_type": "code",
   "execution_count": 1,
   "metadata": {},
   "outputs": [],
   "source": [
    "# Bibliotecas\n",
    "import sys\n",
    "import os\n",
    "import pandas as pd\n",
    "\n",
    "# Bibliotecas\n",
    "from datetime import datetime\n",
    "import time\n",
    "import schedule"
   ]
  },
  {
   "cell_type": "code",
   "execution_count": 2,
   "metadata": {},
   "outputs": [],
   "source": [
    "# Variáveis\n",
    "sys.path.append(os.path.abspath(os.path.join(os.path.dirname(\"tests.ipynb\"), \"..\", \"env\")))\n",
    "from env_variables import apikey"
   ]
  },
  {
   "cell_type": "code",
   "execution_count": 3,
   "metadata": {},
   "outputs": [],
   "source": [
    "# Scripts\n",
    "sys.path.append(os.path.abspath(os.path.join(os.path.dirname(\"tests.ipynb\"), \"..\", \"env\")))\n",
    "from criteria import Search_Criteria\n",
    "\n",
    "sys.path.append(os.path.abspath(os.path.join(os.path.dirname(\"tests.ipynb\"), \"..\", \"api\")))\n",
    "from api import APIClient\n",
    "\n",
    "sys.path.append(os.path.abspath(os.path.join(os.path.dirname(\"tests.ipynb\"), \"..\", \"pipeline\")))\n",
    "from pipeline import Data_Pipeline_API"
   ]
  },
  {
   "cell_type": "markdown",
   "metadata": {},
   "source": [
    "# Testes"
   ]
  },
  {
   "cell_type": "code",
   "execution_count": 15,
   "metadata": {},
   "outputs": [],
   "source": [
    "# Instanciando objeto de critérios de pesquisa\n",
    "search_object = Search_Criteria(\"genomics\", [\"DNA\", \"genetic\", \"treatment\"])"
   ]
  },
  {
   "cell_type": "code",
   "execution_count": 16,
   "metadata": {},
   "outputs": [],
   "source": [
    "# Instanciando API\n",
    "news_api = APIClient(apikey, search_object.subject)\n",
    "\n",
    "# Adquirindo todos os artigos\n",
    "news_api.get_articles()"
   ]
  },
  {
   "cell_type": "code",
   "execution_count": 17,
   "metadata": {},
   "outputs": [],
   "source": [
    "# Instanciando Pipeline\n",
    "pipeline_data = Data_Pipeline_API()\n",
    "\n",
    "# Carregando dados da API\n",
    "pipeline_data.load_api(news_api.articles)\n",
    "\n",
    "# Salvando em Parquet\n",
    "pipeline_data.save_data(\"raw_data\")"
   ]
  },
  {
   "cell_type": "code",
   "execution_count": 18,
   "metadata": {},
   "outputs": [],
   "source": [
    "# Importando DataFrame\n",
    "pipeline_data.load_parquet(\"raw_data\")\n",
    "\n",
    "# Limpeza de dados\n",
    "pipeline_data.data_cleaning()\n",
    "\n",
    "# Salvando Parquet\n",
    "pipeline_data.save_data(\"cleaned_data\")"
   ]
  },
  {
   "cell_type": "code",
   "execution_count": 4,
   "metadata": {},
   "outputs": [
    {
     "data": {
      "text/plain": [
       "(577, 8)"
      ]
     },
     "execution_count": 4,
     "metadata": {},
     "output_type": "execute_result"
    }
   ],
   "source": [
    "pipeline_data = Data_Pipeline_API()\n",
    "pipeline_data.load_parquet(\"raw_data\")\n",
    "pipeline_data.df_parquet.shape"
   ]
  },
  {
   "cell_type": "code",
   "execution_count": 5,
   "metadata": {},
   "outputs": [
    {
     "data": {
      "text/plain": [
       "(577, 7)"
      ]
     },
     "execution_count": 5,
     "metadata": {},
     "output_type": "execute_result"
    }
   ],
   "source": [
    "pipeline_data.load_parquet(\"cleaned_data\")\n",
    "pipeline_data.df_parquet.shape"
   ]
  },
  {
   "cell_type": "markdown",
   "metadata": {},
   "source": [
    "# Funções de Rotina"
   ]
  },
  {
   "cell_type": "code",
   "execution_count": null,
   "metadata": {},
   "outputs": [],
   "source": [
    "# Funçoes de rotina\n",
    "def update_raw():\n",
    "    now = datetime.now()\n",
    "\n",
    "    # Adquirindo todos os artigos\n",
    "    client.get_articles()\n",
    "\n",
    "    # Instanciando Pipeline\n",
    "    pipeline_data = Data_Pipeline_API()\n",
    "\n",
    "    if len(client.articles) != 0:\n",
    "        # Carregando dados da API\n",
    "        pipeline_data.load_api(client.articles)\n",
    "\n",
    "        # Salvando em Parquet - Dados brutos\n",
    "        pipeline_data.save_data(\"raw_data\")\n",
    "        print(f\"raw_data atualizado em {now.strftime('%Y-%m-%d %H:%M:%S')}\")\n",
    "    \n",
    "    else:\n",
    "        print(f\"Sem atualizações em {now.strftime('%Y-%m-%d %H:%M:%S')}\")\n",
    "        time.sleep(30)\n",
    "\n",
    "\n",
    "def update_cleaned():\n",
    "    update_raw()\n",
    "    now = datetime.now()\n",
    "\n",
    "    # Instanciando Pipeline\n",
    "    pipeline_data = Data_Pipeline_API()\n",
    "    \n",
    "    # Importando DataFrame\n",
    "    pipeline_data.load_parquet(\"raw_data\")\n",
    "\n",
    "    # Limpeza de dados\n",
    "    pipeline_data.data_cleaning()\n",
    "\n",
    "    # Salvando Parquet\n",
    "    pipeline_data.save_data(\"cleaned_data\")\n",
    "    print(f\"cleaned_data atualizado em {now.strftime('%Y-%m-%d %H:%M:%S')}\")\n",
    "    time.sleep(780)"
   ]
  },
  {
   "cell_type": "markdown",
   "metadata": {},
   "source": [
    "# Rotina"
   ]
  },
  {
   "cell_type": "code",
   "execution_count": null,
   "metadata": {},
   "outputs": [],
   "source": [
    "# Instanciando pesquisa e palavras chave\n",
    "criteria = Search_Criteria(\"genomics\", [\"DNA\", \"genetic\", \"treatment\"])\n",
    "\n",
    "# Instanciando API\n",
    "client = APIClient(apikey, criteria.subject)\n",
    "\n",
    "print(\"Script Iniciado\")\n",
    "\n",
    "schedule.every().hour.at(\":00\").do(update_cleaned)\n",
    "schedule.every().hour.at(\":15\").do(update_raw)\n",
    "schedule.every().hour.at(\":30\").do(update_raw)\n",
    "schedule.every().hour.at(\":45\").do(update_raw)\n",
    "\n",
    "while True:\n",
    "    schedule.run_pending()\n",
    "    time.sleep(20) "
   ]
  }
 ],
 "metadata": {
  "kernelspec": {
   "display_name": ".venv",
   "language": "python",
   "name": "python3"
  },
  "language_info": {
   "codemirror_mode": {
    "name": "ipython",
    "version": 3
   },
   "file_extension": ".py",
   "mimetype": "text/x-python",
   "name": "python",
   "nbconvert_exporter": "python",
   "pygments_lexer": "ipython3",
   "version": "3.12.5"
  }
 },
 "nbformat": 4,
 "nbformat_minor": 2
}
